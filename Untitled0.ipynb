{
  "nbformat": 4,
  "nbformat_minor": 0,
  "metadata": {
    "colab": {
      "provenance": []
    },
    "kernelspec": {
      "name": "python3",
      "display_name": "Python 3"
    },
    "language_info": {
      "name": "python"
    }
  },
  "cells": [
    {
      "cell_type": "markdown",
      "source": [
        "# Soma ingredientes\n",
        "\n"
      ],
      "metadata": {
        "id": "4PzVJsKCYZNb"
      }
    },
    {
      "cell_type": "code",
      "source": [
        "# Importações\n",
        "import sys\n"
      ],
      "metadata": {
        "id": "9byvZId8ZHev"
      },
      "execution_count": 12,
      "outputs": []
    },
    {
      "cell_type": "code",
      "source": [
        "#Declaração de variaveis\n",
        "preco_cenoura = 4.5\n",
        "preco_oleo = 12\n",
        "preco_fermento = 15\n",
        "preco_leite = 5\n",
        "preco_acucar = 6\n",
        "preco_ovos = 12\n",
        "\n"
      ],
      "metadata": {
        "id": "CVrFltJVZVUT"
      },
      "execution_count": 14,
      "outputs": []
    },
    {
      "cell_type": "code",
      "source": [
        "def soma_ingredientes(tem_cenoura, tem_acucar, tem_ovos, tem_oleo, tem_fermento, tem_leite):\n",
        "\ttotal_compra = 0\n",
        "\tif tem_cenoura:\n",
        "\t\ttotal_compra = total_compra + preco_cenoura\n",
        "\tif tem_acucar:\n",
        "\t\ttotal_compra = total_compra + preco_acucar\n",
        "\tif tem_ovos:\n",
        "\t\ttotal_compra = total_compra + preco_ovos\n",
        "\tif tem_oleo:\n",
        "\t\ttotal_compra = total_compra + preco_oleo\n",
        "\tif tem_fermento:\n",
        "\t\ttotal_compra = total_compra + preco_fermento\n",
        "\tif tem_leite:\n",
        "\t\ttotal_compra = total_compra + preco_leite\n",
        "\treturn total_compra\n",
        "total = soma_ingredientes(True, True, True, True, True, True)\n",
        "print(total)\n",
        "\n"
      ],
      "metadata": {
        "colab": {
          "base_uri": "https://localhost:8080/"
        },
        "id": "caEfvHH_ZkOc",
        "outputId": "4c4e69ea-99bb-444a-e296-86abf89b3a57"
      },
      "execution_count": 15,
      "outputs": [
        {
          "output_type": "stream",
          "name": "stdout",
          "text": [
            "54.5\n"
          ]
        }
      ]
    },
    {
      "cell_type": "code",
      "source": [
        "\n",
        "termninal_tem_cenoura = True\n",
        "termninal_tem_acucar = True\n",
        "termninal_tem_ovos = True\n",
        "termninal_tem_oleo = True\n",
        "termninal_tem_fermento = True\n",
        "termninal_tem_leite = True\n",
        "\n",
        "total = soma_ingredientes(termninal_tem_cenoura, termninal_tem_acucar, termninal_tem_ovos, termninal_tem_oleo, termninal_tem_fermento, termninal_tem_leite)\n",
        "print(\"Total dos ingredientes: \" , total)"
      ],
      "metadata": {
        "colab": {
          "base_uri": "https://localhost:8080/"
        },
        "id": "EMIPUt3RZ_MO",
        "outputId": "05cabb90-2f3b-4534-9fbe-e2825bd0a7ac"
      },
      "execution_count": 21,
      "outputs": [
        {
          "output_type": "stream",
          "name": "stdout",
          "text": [
            "Total dos ingredientes:  58\n"
          ]
        }
      ]
    },
    {
      "cell_type": "code",
      "source": [
        "preco_cenoura = 8"
      ],
      "metadata": {
        "id": "eSheGZ0Qai-U"
      },
      "execution_count": 20,
      "outputs": []
    }
  ]
}